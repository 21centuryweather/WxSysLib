{
 "cells": [
  {
   "cell_type": "code",
   "execution_count": null,
   "id": "94c398c6-3eda-488d-9798-9b6bf099d7a0",
   "metadata": {},
   "outputs": [],
   "source": [
    "# packages\n",
    "import sys\n",
    "import dask\n",
    "import intake\n",
    "import numpy as np\n",
    "import pandas as pd\n",
    "import xarray as xr\n",
    "\n",
    "# link to self-written packages\n",
    "sys.path.append(\"/g/data/if69/cj0591/repos/for_hackathon\")\n",
    "from utils.tools import write_to_filelist, clear_dir\n",
    "from tempestextremes_utils.node_utils import run_detectNodes, run_stitchNodes"
   ]
  },
  {
   "cell_type": "code",
   "execution_count": null,
   "id": "4cc7cb2d-08f4-4055-8db0-10bc384ab920",
   "metadata": {},
   "outputs": [],
   "source": [
    "# set dask workers\n",
    "client = dask.distributed.Client(n_workers=28)"
   ]
  },
  {
   "cell_type": "code",
   "execution_count": null,
   "id": "61b91374-327f-40b1-a0c5-b127ebf0704b",
   "metadata": {},
   "outputs": [],
   "source": [
    "# era5 category\n",
    "cat = intake.cat.nci\n",
    "era5 = cat['era5']"
   ]
  },
  {
   "cell_type": "code",
   "execution_count": 7,
   "id": "6f3e2421-593b-4b18-bf9c-d4309ef3e934",
   "metadata": {},
   "outputs": [],
   "source": [
    "year_sta = 1979\n",
    "year_end = 2020"
   ]
  },
  {
   "cell_type": "code",
   "execution_count": null,
   "id": "45fd59a5",
   "metadata": {},
   "outputs": [],
   "source": [
    "# To detect tropical cyclones, five variables are requred: topography (ZS),\n",
    "# mean sea level pressure (msl), 10-m U wind (10u) and V wind (10-v), and geopotential (z)."
   ]
  },
  {
   "cell_type": "code",
   "execution_count": null,
   "id": "59078bb1-c9d3-4059-9f46-64feb9c765de",
   "metadata": {},
   "outputs": [],
   "source": [
    "# topography is calculated from surface geopotential\n",
    "zsfile = '/g/data/if69/cj0591/repos/tc-detection/data/zs_era5_oper_sfc_invariant.nc'\n",
    "\n",
    "# geopotential\n",
    "sub_z = era5.search(sub_collection='era5',product_type='reanalysis', year=list(range(year_sta ,year_end+1)),\n",
    "                    dataset='pressure-levels', parameter='z')\n",
    "z_files = sub_z.df.path.unique()\n",
    "\n",
    "# mean sea level pressure\n",
    "sub_msl = era5.search(sub_collection='era5',product_type='reanalysis', year=list(range(year_sta ,year_end+1)),\n",
    "                      dataset='single-levels', parameter='msl')\n",
    "msl_files = sub_msl.df.path.unique()\n",
    "\n",
    "# 10-m u wind\n",
    "sub_10u = era5.search(sub_collection='era5',product_type='reanalysis', year=list(range(year_sta ,year_end+1)),\n",
    "                      dataset='single-levels', parameter='10u')\n",
    "u10_files = sub_10u.df.path.unique()\n",
    "\n",
    "# 10-m v wind\n",
    "sub_10v = era5.search(sub_collection='era5',product_type='reanalysis', year=list(range(year_sta ,year_end+1)),\n",
    "                      dataset='single-levels', parameter='10v')\n",
    "v10_files = sub_10v.df.path.unique()"
   ]
  },
  {
   "cell_type": "code",
   "execution_count": null,
   "id": "cc8927d7-256d-44e5-a91c-924e37807d90",
   "metadata": {},
   "outputs": [],
   "source": [
    "## set directories (create directories accordingly)\n",
    "\n",
    "# base directory\n",
    "base_dir = '/g/data/if69/cj0591/repos/tc-detection'\n",
    "\n",
    "# input & output directory\n",
    "txt_dir = f'{base_dir}/txt' \n",
    "log_dir = f'{base_dir}/log' # log files\n",
    "input_dir = f'{base_dir}/data/in' # input filelist\n",
    "output_dir = f'{base_dir}/data/out' # output filelist\n",
    "output_temp_dir = f'{base_dir}/data/temp' # temporary for output files"
   ]
  },
  {
   "cell_type": "code",
   "execution_count": null,
   "id": "d233bb55",
   "metadata": {},
   "outputs": [],
   "source": [
    "# be very careful with this - it will delete everything in the directory!!!\n",
    "clear_dir(log_dir)\n",
    "clear_dir(input_dir)\n",
    "clear_dir(output_dir)\n",
    "clear_dir(output_temp_dir)"
   ]
  },
  {
   "cell_type": "code",
   "execution_count": null,
   "id": "e54d11ab-cc76-4f27-ab0d-1cbd61582d54",
   "metadata": {},
   "outputs": [],
   "source": [
    "# prepare filelist\n",
    "infilenames_list = []\n",
    "outfilenames_list = []\n",
    "\n",
    "for i in np.arange(0, len(z_files)):\n",
    "    zfile = z_files[i]\n",
    "    zsfile = zsfile\n",
    "    mslfile = msl_files[i]\n",
    "    u10file = u10_files[i]\n",
    "    v10file = v10_files[i]\n",
    "\n",
    "    infilenames_list.append(f\"{zfile};{zsfile};{mslfile};{u10file};{v10file}\")\n",
    "    outfilenames_list.append(f\"{output_temp_dir}/detectNode_output_era5_{str(year_sta)}-{str(year_end)}_{str(i+1).rjust(2,'0')}.txt\")\n",
    "    \n",
    "    write_to_filelist(infilenames_list,f'{input_dir}/detectNode_input_era5_{str(year_sta)}-{str(year_end)}.txt')\n",
    "    write_to_filelist(outfilenames_list,f'{output_dir}/detectNode_output_era5_{str(year_sta)}-{str(year_end)}.txt')"
   ]
  },
  {
   "cell_type": "code",
   "execution_count": null,
   "id": "03d85dd3-ebd8-4d63-a624-fc2c4c692e53",
   "metadata": {},
   "outputs": [],
   "source": [
    "# Run TempestExtremes DetectNode\n",
    "os.environ['TEMPESTEXTREMESDIR']='/home/565/cj0591/tempestextremes/bin'\n",
    "\n",
    "run_detectNodes(f'{input_dir}/detectNode_input_era5_{str(year_sta)}-{str(year_end)}.txt', # input filelist\n",
    "                f'{output_dir}/detectNode_output_era5_{str(year_sta)}-{str(year_end)}.txt', # output filelist\n",
    "                28, # nodes for mpi parallel runnning\n",
    "                detect_var=\"msl\", # msl used for detecting cyclone centres\n",
    "                merge_dist=6.0,\n",
    "                closedcontour_commands=\"msl,200.0,5.5,0;_DIFF(z(300millibars),z(500millibars)),-58.8,6.5,1.0\"\n",
    "                output_commands=\"msl,min,0;_VECMAG(u10,v10),max,2.0;zs,min,0\",\n",
    "                timeinterval=\"6hr\",\n",
    "                lonname=\"longitude\",latname=\"latitude\",\n",
    "                logdir=f\"{base_dir}/log/\",\n",
    "                quiet=True)"
   ]
  },
  {
   "cell_type": "code",
   "execution_count": null,
   "id": "4d8c84f3-e1fb-4b21-90f5-04b8e948ac2f",
   "metadata": {},
   "outputs": [
    {
     "name": "stdout",
     "output_type": "stream",
     "text": [
      "CPU times: user 523 ms, sys: 176 ms, total: 699 ms\n",
      "Wall time: 2.12 s\n"
     ]
    }
   ],
   "source": [
    "# Run TempestExtremes DetectNode\n",
    "run_stitchNodes(f\"{output_dir}/detectNode_output_era5_{str(year)}.txt\",\n",
    "                f\"{txt_dir}/sitchNode_output_era5_{str(year)}.txt\", 1,\n",
    "                output_filefmt=\"gfdl\",\n",
    "                range_dist=8.0,\n",
    "                minim_time=\"54h\",\n",
    "                maxgap_time=\"24h\",\n",
    "                threshold_condition=\"wind,>=,10.0,10;lat,<=,50.0,10;lat,>=,-50.0,10;zs,<,150,10\",\n",
    "                quiet=True)"
   ]
  }
 ],
 "metadata": {
  "kernelspec": {
   "display_name": "Python [conda env:analysis3-22.04]",
   "language": "python",
   "name": "conda-env-analysis3-22.04-py"
  },
  "language_info": {
   "codemirror_mode": {
    "name": "ipython",
    "version": 3
   },
   "file_extension": ".py",
   "mimetype": "text/x-python",
   "name": "python",
   "nbconvert_exporter": "python",
   "pygments_lexer": "ipython3",
   "version": "3.9.13"
  }
 },
 "nbformat": 4,
 "nbformat_minor": 5
}
