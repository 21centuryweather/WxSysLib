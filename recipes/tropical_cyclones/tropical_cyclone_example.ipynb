{
 "cells": [
  {
   "cell_type": "markdown",
   "id": "9846ec0b-5c2e-4fb1-9540-ac1c025bafcb",
   "metadata": {},
   "source": [
    "# Tropical cyclone detection using TempestExtremes  \n",
    "The recipe detects and track tropical cyclones using TempestExtremes. Tropical cyclones are identified from mean sea level pressure (MSLP) minima with compact MSLP contours and warm-core structure.\n",
    "\n",
    "**References:**  \n",
    "Ullrich, P.A., C.M. Zarzycki, E.E. McClenny, M.C. Pinheiro, A.M. Stansfield and K.A. Reed (2021) \"TempestExtremes v2.1: A community framework for feature detection, tracking and analysis in large datasets\" Geosci. Model. Dev. 14, pp. 5023–5048. [https://gmd.copernicus.org/articles/14/5023/2021/]\n",
    "\n",
    "Ullrich, P.A. and C.M. Zarzycki (2017) \"TempestExtremes v1.0: A framework for scale-insensitive pointwise feature tracking on unstructured grids\" Geosci. Model. Dev. 10, pp. 1069-1090. [https://gmd.copernicus.org/articles/10/1069/2017/]\n",
    "\n",
    "Zarzycki, C.M. and P.A. Ullrich (2017) \"Assessing sensitivities in algorithmic detection of tropical cyclones in climate data\" Geophys. Res. Lett. 44 (2), pp. 1141-1149. [https://agupubs.onlinelibrary.wiley.com/doi/full/10.1002/2016GL071606]"
   ]
  },
  {
   "cell_type": "markdown",
   "id": "dbecf3b3-1b5e-40bb-b384-e1304e1ea932",
   "metadata": {},
   "source": [
    "<span style=\"color: mediumblue;\">Load python packages</span>"
   ]
  },
  {
   "cell_type": "code",
   "execution_count": 5,
   "id": "a69a6e1a-941a-400f-9fc8-631dd9a3ab91",
   "metadata": {},
   "outputs": [],
   "source": [
    "from datetime import datetime, timedelta\n",
    "import xarray as xr\n",
    "import pandas as pd\n",
    "import numpy as np\n",
    "import sys\n",
    "import os"
   ]
  },
  {
   "cell_type": "markdown",
   "id": "2a750906-a5a9-478a-9573-dd3a197944fa",
   "metadata": {},
   "source": [
    "<span style=\"color: mediumblue;\">Set and load the paths for WxSysLib installed on your local directory</span>"
   ]
  },
  {
   "cell_type": "code",
   "execution_count": 6,
   "id": "94c398c6-3eda-488d-9798-9b6bf099d7a0",
   "metadata": {},
   "outputs": [],
   "source": [
    "os.environ['WXSYSLIBDIR']='/g/data/gb02/cj0591/WxSysLib'\n",
    "sys.path.append(os.environ['WXSYSLIBDIR'])"
   ]
  },
  {
   "cell_type": "markdown",
   "id": "a4328cb7-5781-4345-9c2b-bf448d72f7ee",
   "metadata": {},
   "source": [
    "<span style=\"color: mediumblue;\">Set and load the path for TempestExtremes on `gb02/public`</span>"
   ]
  },
  {
   "cell_type": "code",
   "execution_count": 10,
   "id": "1dc7c9ec-f3e3-48a7-ba37-c7f7f2b7bd9f",
   "metadata": {},
   "outputs": [],
   "source": [
    "os.environ['TEMPESTEXTREMESDIR']='/g/data/gb02/public/Wx_temp/tempestextremes/bin'"
   ]
  },
  {
   "cell_type": "markdown",
   "id": "f549decc-b96d-49b0-bfff-178aa2918026",
   "metadata": {},
   "source": [
    "<span style=\"color: mediumblue;\">TempestExtremes allows parrael running using mpi. Let's set up a couple of works</span>"
   ]
  },
  {
   "cell_type": "code",
   "execution_count": null,
   "id": "fce0f41c-50ba-4802-a44e-174a16af1d50",
   "metadata": {},
   "outputs": [],
   "source": [
    "from dask.distributed import Client\n",
    "client = Client(n_workers=2)"
   ]
  },
  {
   "cell_type": "markdown",
   "id": "3fb5bfc8-b9d6-467f-a29e-4af08585f6db",
   "metadata": {},
   "source": [
    "<span style=\"color: mediumblue;\">load tempestextremes utils</span>"
   ]
  },
  {
   "cell_type": "code",
   "execution_count": 12,
   "id": "09ecf8fe-6b0b-4310-8810-92f7d4df2f43",
   "metadata": {},
   "outputs": [],
   "source": [
    "from utils.nodes.tempestextremes_utils.node_utils import (\n",
    "run_detectNodes,\n",
    "run_stitchNodes,\n",
    "run_nodeCompose,\n",
    "create_Node_dirstruct,\n",
    "assign_lev)"
   ]
  },
  {
   "cell_type": "markdown",
   "id": "e134ae33-8df2-4b83-880d-546f627f5c55",
   "metadata": {},
   "source": [
    "<span style=\"color: mediumblue;\">load other utils from WxSysLib</span>"
   ]
  },
  {
   "cell_type": "code",
   "execution_count": 15,
   "id": "2702c0df-e5b5-4462-8190-2c99680bbd5f",
   "metadata": {},
   "outputs": [],
   "source": [
    "from utils.general.nci_utils import get_GADI_ERA5_filename\n",
    "from utils.general.date_utils import generate_datetimes_months\n",
    "from utils.general.file_utils import write_to_filelist\n",
    "from utils.plotting.node_plotting import plot_node_tracks"
   ]
  },
  {
   "cell_type": "markdown",
   "id": "fb14e258-4c7d-4d47-ab11-b8c3633c29c4",
   "metadata": {},
   "source": [
    "<span style=\"color: mediumblue;\">Create required directories using `create_Node_dirstruct`</span>  "
   ]
  },
  {
   "cell_type": "code",
   "execution_count": 13,
   "id": "96c72dbd-d3f1-43d1-a2f1-b0ae21770900",
   "metadata": {},
   "outputs": [
    {
     "name": "stdout",
     "output_type": "stream",
     "text": [
      "Directory '/scratch/gb02/cj0591/tc_example' already exists.\n",
      "Directory '/scratch/gb02/cj0591/tc_example/input' already exists.\n",
      "Directory '/scratch/gb02/cj0591/tc_example/detectNodes' already exists.\n",
      "Directory '/scratch/gb02/cj0591/tc_example/stitchNodes' already exists.\n",
      "Directory '/scratch/gb02/cj0591/tc_example/nodeFileCompose' already exists.\n",
      "Directory '/scratch/gb02/cj0591/tc_example/logs' already exists.\n"
     ]
    }
   ],
   "source": [
    "work_dir = '/scratch/gb02/cj0591';\n",
    "casename = 'tc_example'\n",
    "dirs = create_Node_dirstruct(work_dir, casename)\n",
    "casepath = dirs[0]"
   ]
  },
  {
   "cell_type": "markdown",
   "id": "21cc4a7f-9ef5-4e8b-ac63-8f89b78ddd0e",
   "metadata": {},
   "source": [
    "<span style=\"color: mediumblue;\">Let's detect and track tropical cyclones for two-month ERA5 data</span>"
   ]
  },
  {
   "cell_type": "code",
   "execution_count": 17,
   "id": "1ca730ff-86f1-402d-bb4f-95e28420e7b4",
   "metadata": {},
   "outputs": [],
   "source": [
    "std_month = datetime(2022,1,1)\n",
    "end_month = datetime(2022,2,1)\n",
    "months_list = generate_datetimes_months(std_month,end_month)\n",
    "date_id = [dt.strftime('%Y%m') for dt in months_list]"
   ]
  },
  {
   "cell_type": "markdown",
   "id": "92f1770b-b2dc-4f52-9107-30384f4833f6",
   "metadata": {},
   "source": [
    "<span style=\"color: mediumblue;\">Create input filelist and output filelist</span>  \n",
    "\n",
    "The following variables are required for tropical cyclone detection and trakcing.\n",
    "\n",
    "| Variable Name                 | Level                             |\n",
    "|-------------------------------|-----------------------------------|\n",
    "| Elevation (zs)                | Surface                           |\n",
    "| 10-m U-component Wind (u10)   | Surface                           |\n",
    "| 10-m V-component Wind (v10)   | Surface                           |\n",
    "| Mean Sea Level Pressure (msl) | Surface                           |\n",
    "| Geopotential (z)              | 500 hPa, 300 hPa                  |   "
   ]
  },
  {
   "cell_type": "code",
   "execution_count": 21,
   "id": "7b1ffb21-3f88-4791-9f41-f8dc845e7396",
   "metadata": {},
   "outputs": [],
   "source": [
    "# input filelist \n",
    "input_filelist  =f'{casepath}/input/input_files.txt'\n",
    "data_filenames = []\n",
    "for m in months_list:\n",
    "    zsfile   = '/g/data/gb02/cj0591/WxSysLib/test_data/zs_era5_oper_sfc_invariant.nc'\n",
    "    zfile    = get_GADI_ERA5_filename('z',  m,stream='hourly',level_type='pressure-levels')\n",
    "    mslfile  = get_GADI_ERA5_filename('msl',m,stream='hourly',level_type=  'single-levels') \n",
    "    u10file  = get_GADI_ERA5_filename('10u',m,stream='hourly',level_type=  'single-levels') \n",
    "    v10file  = get_GADI_ERA5_filename('10v',m,stream='hourly',level_type=  'single-levels')\n",
    "    data_filenames.append(f\"{zfile};{zsfile};{mslfile};{u10file};{v10file}\")\n",
    "write_to_filelist(data_filenames,input_filelist)"
   ]
  },
  {
   "cell_type": "markdown",
   "id": "5401ab11-946a-4e5f-8559-97195c71b98f",
   "metadata": {},
   "source": [
    "<span style=\"color: mediumblue;\">An input filelist contains a list of required ERA5 variable filenames separateed by semicolon</span>"
   ]
  },
  {
   "cell_type": "code",
   "execution_count": 27,
   "id": "594a32ae-994b-4c63-a56d-f5c3fb705ee3",
   "metadata": {},
   "outputs": [
    {
     "name": "stdout",
     "output_type": "stream",
     "text": [
      "/g/data/rt52/era5/pressure-levels/reanalysis/z/2022/z_era5_oper_pl_20220101-20220131.nc;/g/data/gb02/cj0591/WxSysLib/test_data/zs_era5_oper_sfc_invariant.nc;/g/data/rt52/era5/single-levels/reanalysis/msl/2022/msl_era5_oper_sfc_20220101-20220131.nc;/g/data/rt52/era5/single-levels/reanalysis/10u/2022/10u_era5_oper_sfc_20220101-20220131.nc;/g/data/rt52/era5/single-levels/reanalysis/10v/2022/10v_era5_oper_sfc_20220101-20220131.nc\n",
      "/g/data/rt52/era5/pressure-levels/reanalysis/z/2022/z_era5_oper_pl_20220201-20220228.nc;/g/data/gb02/cj0591/WxSysLib/test_data/zs_era5_oper_sfc_invariant.nc;/g/data/rt52/era5/single-levels/reanalysis/msl/2022/msl_era5_oper_sfc_20220201-20220228.nc;/g/data/rt52/era5/single-levels/reanalysis/10u/2022/10u_era5_oper_sfc_20220201-20220228.nc;/g/data/rt52/era5/single-levels/reanalysis/10v/2022/10v_era5_oper_sfc_20220201-20220228.nc\n"
     ]
    }
   ],
   "source": [
    "!cat $input_filelist"
   ]
  },
  {
   "cell_type": "markdown",
   "id": "85391259-f461-492c-93f5-1a2d6dc2bb47",
   "metadata": {},
   "source": [
    "<span style=\"color: mediumblue;\">An output filelist contains a list of detected nodes</span>"
   ]
  },
  {
   "cell_type": "code",
   "execution_count": 29,
   "id": "98f7e053-87b7-4566-82c9-ae15238cdf4a",
   "metadata": {},
   "outputs": [
    {
     "name": "stdout",
     "output_type": "stream",
     "text": [
      "/scratch/gb02/cj0591/tc_example/detectNodes/detectNodes_202201.txt\n",
      "/scratch/gb02/cj0591/tc_example/detectNodes/detectNodes_202202.txt\n"
     ]
    }
   ],
   "source": [
    "# output filelist\n",
    "detect_filelist =f'{casepath}/input/output_files.txt'\n",
    "detect_filenames = [f\"{casepath}/detectNodes/detectNodes_{dt}.txt\" for dt in date_id]\n",
    "write_to_filelist(detect_filenames,detect_filelist)\n",
    "\n",
    "!cat $detect_filelist"
   ]
  },
  {
   "cell_type": "markdown",
   "id": "6afe4075-315e-4f33-b645-a390eb33ac17",
   "metadata": {},
   "source": [
    "<span style=\"color: mediumblue;\">Run detectNode to detect tropical cyclones:</span> \n",
    "\n",
    "`searchby='min'` and `detect_var='msl` - search for msl minimum  \n",
    "\n",
    "`merge_dist=6.0` - merge two detected nodes if they are to closed to each other (6.0 great circle distance)  \n",
    "\n",
    "`bounds=[100, 240, -60, 0]` - a box (lon_min, lon_max, lat_min, lat_max) for where cyclones are identified  \n",
    "\n",
    "`'msl,200.0,5.5,0'` - msl change from the dete"
   ]
  },
  {
   "cell_type": "code",
   "execution_count": 30,
   "id": "7939315d-0877-4e97-85a9-d862fb5e78c5",
   "metadata": {},
   "outputs": [
    {
     "name": "stdout",
     "output_type": "stream",
     "text": [
      "mpirun -np 2 /g/data/gb02/public/Wx_temp/tempestextremes/bin/DetectNodes --in_data_list /scratch/gb02/cj0591/tc_example/input/input_files.txt --out_file_list /scratch/gb02/cj0591/tc_example/input/output_files.txt --searchbymin \"msl\" --closedcontourcmd \"msl,200.0,5.5,0;_DIFF(z(300millibars),z(500millibars)),-58.8,6.5,1.0\" --mergedist 6.0 --outputcmd \"msl,min,0;_VECMAG(u10,v10),max,2.0;zs,min,0\" --timefilter \"6hr\" --latname latitude --lonname longitude --logdir /scratch/gb02/cj0591/tc_example/logs --regional --minlon 100 --maxlon 240 --minlat -60 --maxlat 0\n",
      "Running command ...\n"
     ]
    }
   ],
   "source": [
    "tc_contour_command = (\n",
    "    'msl,200.0,5.5,0;'\n",
    "    '_DIFF(z(300millibars),z(500millibars)),-58.8,6.5,1.0'\n",
    ")\n",
    "\n",
    "tc_output_command  = (\n",
    "    'msl,min,0;'\n",
    "    '_VECMAG(u10,v10),max,2.0;'\n",
    "    'zs,min,0'\n",
    ")\n",
    "\n",
    "\n",
    "run_detectNodes(input_filelist,\n",
    "                detect_filelist,\n",
    "                mpi_np=2,\n",
    "                searchby='min',\n",
    "                detect_var='msl',\n",
    "                merge_dist=6.0,\n",
    "                bounds=[100, 240, -60, 0],\n",
    "                closedcontour_commands=tc_contour_command,\n",
    "                output_commands=tc_output_command,\n",
    "                timeinterval='6hr',\n",
    "                lonname='longitude',\n",
    "                latname='latitude',\n",
    "                logdir=f'{casepath}/logs',\n",
    "                regional=True,\n",
    "                quiet=True,\n",
    "                out_command_only=False\n",
    ")"
   ]
  },
  {
   "cell_type": "markdown",
   "id": "dd8bc2c4-332d-46fc-a758-506e90c39209",
   "metadata": {},
   "source": [
    "<span style=\"color: mediumblue;\">Run stitch Node to connect detect tropical cyclones in time:</span>"
   ]
  },
  {
   "cell_type": "code",
   "execution_count": 31,
   "id": "24e34de7-2fe2-4829-970a-f47729629c97",
   "metadata": {},
   "outputs": [
    {
     "name": "stdout",
     "output_type": "stream",
     "text": [
      "mpirun -np 1 /g/data/gb02/public/Wx_temp/tempestextremes/bin/StitchNodes --in_list /scratch/gb02/cj0591/tc_example/input/output_files.txt --in_fmt lon,lat,msl,wind,zs --range 8.0 --mintime 54h --maxgap 24h --threshold wind,>=,10.0,10;lat,<=,50.0,10;lat,>=,-50.0,10;zs,<,150.0,10 --min_endpoint_dist 12.0 --out_file_format csv --out /scratch/gb02/cj0591/tc_example/stitchNodes/stitchNodes_output.csv\n"
     ]
    }
   ],
   "source": [
    "stitch_file = f'{casepath}/stitchNodes/stitchNodes_output.csv'\n",
    "\n",
    "tc_stitch_threshold_command  = (\n",
    "    'wind,>=,10.0,10;'\n",
    "    'lat,<=,50.0,10;lat,>=,-50.0,10;'\n",
    "    'zs,<,150.0,10'\n",
    ")\n",
    "\n",
    "run_stitchNodes(detect_filelist,\n",
    "                stitch_file,\n",
    "                mpi_np=1,\n",
    "                output_filefmt=\"csv\",\n",
    "                in_fmt_commands=\"lon,lat,msl,wind,zs\",\n",
    "                range_dist=8.0,\n",
    "                minim_time=\"54h\",\n",
    "                maxgap_time=\"24h\",\n",
    "                min_endpoint_dist=12.0,\n",
    "                threshold_condition=tc_stitch_threshold_command,\n",
    "                quiet=True,\n",
    "                out_command_only=False)"
   ]
  },
  {
   "cell_type": "markdown",
   "id": "48ea2560-49c0-400c-9336-604db09e45a5",
   "metadata": {},
   "source": [
    "<span style=\"color: mediumblue;\">Let's have a look at detected tropical cyclones using `plot_node_tracks` function</span>"
   ]
  },
  {
   "cell_type": "code",
   "execution_count": 70,
   "id": "2b597a6a-7019-49eb-9d75-17a19d4936ed",
   "metadata": {},
   "outputs": [],
   "source": [
    "stitch_file = f'{casepath}/stitchNodes/stitchNodes_output.csv'\n",
    "df = pd.read_csv(stitch_file, skipinitialspace=True)"
   ]
  },
  {
   "cell_type": "code",
   "execution_count": 71,
   "id": "060eac1e-9f5e-4609-8466-3e99656bf845",
   "metadata": {},
   "outputs": [
    {
     "data": {
      "image/png": "[encoded data removed]",
      "text/plain": [
       "<Figure size 640x480 with 2 Axes>"
      ]
     },
     "metadata": {},
     "output_type": "display_data"
    }
   ],
   "source": [
    "fig = plot_node_tracks(df,'wind', 2, 32, 90, 240, -60, 0, 'jet')"
   ]
  },
  {
   "cell_type": "markdown",
   "id": "245235e9-1957-4037-8320-b3726c09a9b7",
   "metadata": {},
   "source": [
    "<span style=\"color: mediumblue;\">Run nodeCompose to extract variables along the detected tropical cyclones:</span> "
   ]
  },
  {
   "cell_type": "code",
   "execution_count": 72,
   "id": "de4fcfac-b4cf-4060-867c-c1fea2606d7b",
   "metadata": {},
   "outputs": [
    {
     "name": "stdout",
     "output_type": "stream",
     "text": [
      "/g/data/gb02/public/Wx_temp/tempestextremes/bin/NodeFileCompose --in_nodefile /scratch/gb02/cj0591/tc_example/stitchNodes/stitchNodes_output.csv --in_nodefile_type SN --in_fmt (auto) --snapshots --in_data_list /scratch/gb02/cj0591/tc_example/nodeFileCompose/inputlist.txt --dx 0.5 --resx 21 --out_grid XY --out_data /scratch/gb02/cj0591/tc_example/nodeFileCompose/snap_exmaple.nc --latname latitude --lonname longitude --var u(:),v(:) --varout u,v\n"
     ]
    }
   ],
   "source": [
    "snap_file = '/scratch/gb02/cj0591/tc_example/nodeFileCompose/snap_exmaple.nc'\n",
    "run_nodeCompose(stitch_file,\n",
    "                snap_file,\n",
    "                \"(auto)\",\n",
    "                'pressure-levels',\n",
    "                'XY',\n",
    "                variables=['u', 'v'],\n",
    "                lonname=\"longitude\",\n",
    "                latname=\"latitude\",\n",
    "                dx=0.5, resx=21,\n",
    "                quiet=True,\n",
    "                out_command_only=False)"
   ]
  },
  {
   "cell_type": "markdown",
   "id": "5984c4c9-3d23-4186-855e-e30acff006a5",
   "metadata": {},
   "source": [
    "<span style=\"color: mediumblue;\">Node the extract fields do not have vertical coordinate. `assign_lev` is used to assign vertical coordiante</span>"
   ]
  },
  {
   "cell_type": "code",
   "execution_count": 73,
   "id": "e1a61ac9-f7d3-4924-866f-511bf2f27668",
   "metadata": {},
   "outputs": [],
   "source": [
    "ds = xr.open_dataset(snap_file)\n",
    "ds = assign_lev(ds, 'pressure-levels')\n",
    "ds = ds.sel(level=np.arange(100, 1000+50, 50))"
   ]
  },
  {
   "cell_type": "code",
   "execution_count": 75,
   "id": "227ea1c0-c275-4367-ace0-0b4d8e45311d",
   "metadata": {},
   "outputs": [],
   "source": [
    "ds_track = ds.where(ds.snap_pathid==1,drop=True)\n",
    "df_track = df[df.track_id==1].reset_index(drop=True)"
   ]
  }
 ],
 "metadata": {
  "kernelspec": {
   "display_name": "Python 3",
   "language": "python",
   "name": "python3"
  },
  "language_info": {
   "codemirror_mode": {
    "name": "ipython",
    "version": 3
   },
   "file_extension": ".py",
   "mimetype": "text/x-python",
   "name": "python",
   "nbconvert_exporter": "python",
   "pygments_lexer": "ipython3",
   "version": "3.11.13"
  }
 },
 "nbformat": 4,
 "nbformat_minor": 5
}
